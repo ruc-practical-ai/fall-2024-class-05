{
 "cells": [
  {
   "cell_type": "markdown",
   "metadata": {},
   "source": [
    "# Data Loading\n",
    "\n",
    "Before we can perform any model training, we need to load our data into a format that PyTorch can interact with.\n",
    "\n",
    "## PyTorch Data Utilities\n",
    "\n",
    "PyTorch provides two utilities for separating data handling code from model training code, `torch.utils.data.Dataset` and `torch.utils.data.DataLoader`, for storing and interacting with data respectively.\n",
    "\n",
    "### `torch.utils.data.Dataset`\n",
    "\n",
    "`torch.utils.data.Dataset` is an abstract class representing a dataset. Datasets in PyTorch are subclasses (children) of this base class (parent). PyTorch provides both built-in datasets and the ability to add your own datasets by instantiating subclasses of `torch.utils.data.Dataset`.\n",
    "\n",
    "You can learn more about `torch.utils.data.Dataset` [here](https://pytorch.org/docs/stable/data.html#torch.utils.data.Dataset). \n",
    "\n",
    "### `torch.utils.data.DataLoader`\n",
    "\n",
    "`torch.utils.data.DataLoader` provides the ability to iterate over a dataset, and perform common operations on that data with support for multi-processing if desired. Operations supported include shuffling data, sampling data, loading data in batches, employing subprocesses to load the data, and more.\n",
    "\n",
    "**Any class which is a subclass of `torch.utils.data.Dataset` can be passed to `torch.utils.DataLoader`.** This is incredibly convenient since any built-in dataset, and any data we add that is a subclass of `torch.utils.data.Dataset` is eligible to be interacted with through the convenience of `torch.utils.data.DataLoader`.\n",
    "\n",
    "You can learn more about `torch.utils.data.DataLoader` [here](https://pytorch.org/docs/stable/data.html#torch.utils.data.DataLoader).\n",
    "\n",
    "### Built-in Datasets\n",
    "\n",
    "PyTorch includes many built-in subclasses of `torch.utils.data.Dataset`, all ready to be used and interacted with via `torch.utils.data.DataLoader`. Check out [CelebA](https://mmlab.ie.cuhk.edu.hk/projects/CelebA.html) as an example.\n",
    "\n",
    "These include [vision datasets](https://pytorch.org/vision/stable/datasets.html), [text datasets](https://pytorch.org/text/stable/datasets.html), and [audio datasets](https://pytorch.org/audio/stable/datasets.html).\n",
    "\n",
    "We will see examples of using built-in datasets and loading our own data below."
   ]
  },
  {
   "cell_type": "markdown",
   "metadata": {},
   "source": [
    "## Imports\n",
    "\n",
    "Here we import the `torch` dependencies and other basic dependencies we'll need."
   ]
  },
  {
   "cell_type": "code",
   "execution_count": 1,
   "metadata": {},
   "outputs": [],
   "source": [
    "from dataclasses import dataclass\n",
    "\n",
    "import torch\n",
    "\n",
    "# Model building\n",
    "import torch.nn as nn\n",
    "import torch.nn.functional as F\n",
    "import torch.optim as optim\n",
    "from torch.optim.lr_scheduler import StepLR\n",
    "\n",
    "# Data loading\n",
    "from torch.utils.data import Dataset\n",
    "from torch.utils.data import DataLoader\n",
    "from torchvision import datasets\n",
    "from torchvision.transforms import v2\n",
    "\n",
    "# Visualization\n",
    "import matplotlib.pyplot as plt\n",
    "\n",
    "# Seed and device configuration\n",
    "torch.manual_seed(1)\n",
    "device = torch.device(\"cuda\" if torch.cuda.is_available() else \"cpu\")"
   ]
  },
  {
   "cell_type": "markdown",
   "metadata": {},
   "source": [
    "## Examples\n",
    "\n",
    "Here we look at some examples of using PyTorch's builtin datasets and loading our own."
   ]
  },
  {
   "cell_type": "markdown",
   "metadata": {},
   "source": [
    "### Loading MNIST\n",
    "\n",
    "Here we load MNIST.\n",
    "\n",
    "Downloading the dataset might require dependencies. In this case, `gdown` is required and already installed in this environment. If it is not, you can install it with `pip install gdown` or `poetry add gdown` if using Poetry.\n",
    "\n",
    "Different datasets support different arguments which control how they are loaded. Most datasets allow you to at minimum:\n",
    "\n",
    "* specify a folder where the data is to be stored with `root`,\n",
    "* Pass a transform you would like to apply to each example via the `transform` parameter,\n",
    "* Specify that you want to download the dataset if it is *not* available at root via the `download` parameter.\n",
    "\n",
    "We use transforms from `torchvision` to resize our images to a common size and transform them to PyTorch tensors.\n"
   ]
  },
  {
   "cell_type": "code",
   "execution_count": 2,
   "metadata": {},
   "outputs": [],
   "source": [
    "transform = v2.Compose([v2.ToImage(), v2.ToDtype(torch.float32, scale=True)])\n",
    "\n",
    "dataset = datasets.MNIST(\n",
    "    root=\"example_data\", download=True, transform=transform\n",
    ")"
   ]
  },
  {
   "cell_type": "markdown",
   "metadata": {},
   "source": [
    "### Exploring MNIST\n",
    "\n",
    "Let's learn about the data we just downloaded. We see that this is an object of class `torchvision.datasets.mnist.MNIST` which inherits from `torchvision.datasets.vision.VisionDataset`. Printing the dataset reveals some basic information."
   ]
  },
  {
   "cell_type": "code",
   "execution_count": 3,
   "metadata": {},
   "outputs": [
    {
     "name": "stdout",
     "output_type": "stream",
     "text": [
      "<class 'torchvision.datasets.mnist.MNIST'>\n",
      "<class 'torchvision.datasets.vision.VisionDataset'>\n",
      "Dataset MNIST\n",
      "    Number of datapoints: 60000\n",
      "    Root location: example_data\n",
      "    Split: Train\n",
      "    StandardTransform\n",
      "Transform: Compose(\n",
      "                 ToImage()\n",
      "                 ToDtype(scale=True)\n",
      "           )\n"
     ]
    }
   ],
   "source": [
    "print(type(dataset))\n",
    "print(type(dataset).__base__)\n",
    "print(dataset)"
   ]
  },
  {
   "cell_type": "markdown",
   "metadata": {},
   "source": [
    "We can see all the useful information packaged into this dataset by using Python's `dir` to get all the class's attributes and using list comprehension to remove any that have the `_` which indicates they are meant to be private."
   ]
  },
  {
   "cell_type": "code",
   "execution_count": 4,
   "metadata": {},
   "outputs": [
    {
     "name": "stdout",
     "output_type": "stream",
     "text": [
      "class_to_idx\n",
      "classes\n",
      "data\n",
      "download\n",
      "extra_repr\n",
      "mirrors\n",
      "processed_folder\n",
      "raw_folder\n",
      "resources\n",
      "root\n",
      "target_transform\n",
      "targets\n",
      "test_data\n",
      "test_file\n",
      "test_labels\n",
      "train\n",
      "train_data\n",
      "train_labels\n",
      "training_file\n",
      "transform\n",
      "transforms\n"
     ]
    }
   ],
   "source": [
    "def print_attributes(my_object):\n",
    "    print(\n",
    "        \"\\n\".join(\n",
    "            [\n",
    "                attribute\n",
    "                for attribute in dir(my_object)\n",
    "                if not attribute.startswith(\"_\")\n",
    "            ]\n",
    "        )\n",
    "    )\n",
    "\n",
    "\n",
    "print_attributes(dataset)"
   ]
  },
  {
   "cell_type": "markdown",
   "metadata": {},
   "source": [
    "We can inspect some of these attributes to get a feel for what the dataset enables us to do."
   ]
  },
  {
   "cell_type": "code",
   "execution_count": 5,
   "metadata": {},
   "outputs": [
    {
     "name": "stdout",
     "output_type": "stream",
     "text": [
      "Annotation categories: {'0 - zero': 0, '1 - one': 1, '2 - two': 2, '3 - three': 3, '4 - four': 4, '5 - five': 5, '6 - six': 6, '7 - seven': 7, '8 - eight': 8, '9 - nine': 9}\n",
      "Categories: ['0 - zero', '1 - one', '2 - two', '3 - three', '4 - four', '5 - five', '6 - six', '7 - seven', '8 - eight', '9 - nine']\n",
      "Root directory of data: example_data\n",
      "Transforms applied to data: StandardTransform\n",
      "Transform: Compose(\n",
      "                 ToImage()\n",
      "                 ToDtype(scale=True)\n",
      "           )\n",
      "Numerical labels: tensor([5, 0, 4,  ..., 5, 6, 8])\n"
     ]
    }
   ],
   "source": [
    "print(\"Annotation categories:\", dataset.class_to_idx)\n",
    "print(\"Categories:\", dataset.classes)\n",
    "print(\"Root directory of data:\", dataset.root)\n",
    "print(\"Transforms applied to data:\", dataset.transforms)\n",
    "print(\"Numerical labels:\", dataset.targets)"
   ]
  },
  {
   "cell_type": "markdown",
   "metadata": {},
   "source": [
    "We can also see that indexing the data returns a tuple **at each index**. The first entry is the image and the second is the label.\n",
    "\n",
    "We see that the dataset has 60000 entries, where each is a tuple. Each tuple has two elements, one for the features and one for the labels."
   ]
  },
  {
   "cell_type": "code",
   "execution_count": 6,
   "metadata": {},
   "outputs": [
    {
     "name": "stdout",
     "output_type": "stream",
     "text": [
      "60000\n",
      "<class 'tuple'>\n",
      "2\n",
      "Image([[[0.0000, 0.0000, 0.0000, 0.0000, 0.0000, 0.0000, 0.0000, 0.0000, 0.0000,\n",
      "         0.0000, 0.0000, 0.0000, 0.0000, 0.0000, 0.0000, 0.0000, 0.0000, 0.0000,\n",
      "         0.0000, 0.0000, 0.0000, 0.0000, 0.0000, 0.0000, 0.0000, 0.0000, 0.0000,\n",
      "         0.0000],\n",
      "        [0.0000, 0.0000, 0.0000, 0.0000, 0.0000, 0.0000, 0.0000, 0.0000, 0.0000,\n",
      "         0.0000, 0.0000, 0.0000, 0.0000, 0.0000, 0.0000, 0.0000, 0.0000, 0.0000,\n",
      "         0.0000, 0.0000, 0.0000, 0.0000, 0.0000, 0.0000, 0.0000, 0.0000, 0.0000,\n",
      "         0.0000],\n",
      "        [0.0000, 0.0000, 0.0000, 0.0000, 0.0000, 0.0000, 0.0000, 0.0000, 0.0000,\n",
      "         0.0000, 0.0000, 0.0000, 0.0000, 0.0000, 0.0000, 0.0000, 0.0000, 0.0000,\n",
      "         0.0000, 0.0000, 0.0000, 0.0000, 0.0000, 0.0000, 0.0000, 0.0000, 0.0000,\n",
      "         0.0000],\n",
      "        [0.0000, 0.0000, 0.0000, 0.0000, 0.0000, 0.0000, 0.0000, 0.0000, 0.0000,\n",
      "         0.0000, 0.0000, 0.0000, 0.0000, 0.0000, 0.0000, 0.0000, 0.0000, 0.0000,\n",
      "         0.0000, 0.0000, 0.0000, 0.0000, 0.0000, 0.0000, 0.0000, 0.0000, 0.0000,\n",
      "         0.0000],\n",
      "        [0.0000, 0.0000, 0.0000, 0.0000, 0.0000, 0.0000, 0.0000, 0.0000, 0.0000,\n",
      "         0.0000, 0.0000, 0.0000, 0.0000, 0.0000, 0.0000, 0.0000, 0.0000, 0.0000,\n",
      "         0.0000, 0.0000, 0.0000, 0.0000, 0.0000, 0.0000, 0.0000, 0.0000, 0.0000,\n",
      "         0.0000],\n",
      "        [0.0000, 0.0000, 0.0000, 0.0000, 0.0000, 0.0000, 0.0000, 0.0000, 0.0000,\n",
      "         0.0000, 0.0000, 0.0000, 0.0118, 0.0706, 0.0706, 0.0706, 0.4941, 0.5333,\n",
      "         0.6863, 0.1020, 0.6510, 1.0000, 0.9686, 0.4980, 0.0000, 0.0000, 0.0000,\n",
      "         0.0000],\n",
      "        [0.0000, 0.0000, 0.0000, 0.0000, 0.0000, 0.0000, 0.0000, 0.0000, 0.1176,\n",
      "         0.1412, 0.3686, 0.6039, 0.6667, 0.9922, 0.9922, 0.9922, 0.9922, 0.9922,\n",
      "         0.8824, 0.6745, 0.9922, 0.9490, 0.7647, 0.2510, 0.0000, 0.0000, 0.0000,\n",
      "         0.0000],\n",
      "        [0.0000, 0.0000, 0.0000, 0.0000, 0.0000, 0.0000, 0.0000, 0.1922, 0.9333,\n",
      "         0.9922, 0.9922, 0.9922, 0.9922, 0.9922, 0.9922, 0.9922, 0.9922, 0.9843,\n",
      "         0.3647, 0.3216, 0.3216, 0.2196, 0.1529, 0.0000, 0.0000, 0.0000, 0.0000,\n",
      "         0.0000],\n",
      "        [0.0000, 0.0000, 0.0000, 0.0000, 0.0000, 0.0000, 0.0000, 0.0706, 0.8588,\n",
      "         0.9922, 0.9922, 0.9922, 0.9922, 0.9922, 0.7765, 0.7137, 0.9686, 0.9451,\n",
      "         0.0000, 0.0000, 0.0000, 0.0000, 0.0000, 0.0000, 0.0000, 0.0000, 0.0000,\n",
      "         0.0000],\n",
      "        [0.0000, 0.0000, 0.0000, 0.0000, 0.0000, 0.0000, 0.0000, 0.0000, 0.3137,\n",
      "         0.6118, 0.4196, 0.9922, 0.9922, 0.8039, 0.0431, 0.0000, 0.1686, 0.6039,\n",
      "         0.0000, 0.0000, 0.0000, 0.0000, 0.0000, 0.0000, 0.0000, 0.0000, 0.0000,\n",
      "         0.0000],\n",
      "        [0.0000, 0.0000, 0.0000, 0.0000, 0.0000, 0.0000, 0.0000, 0.0000, 0.0000,\n",
      "         0.0549, 0.0039, 0.6039, 0.9922, 0.3529, 0.0000, 0.0000, 0.0000, 0.0000,\n",
      "         0.0000, 0.0000, 0.0000, 0.0000, 0.0000, 0.0000, 0.0000, 0.0000, 0.0000,\n",
      "         0.0000],\n",
      "        [0.0000, 0.0000, 0.0000, 0.0000, 0.0000, 0.0000, 0.0000, 0.0000, 0.0000,\n",
      "         0.0000, 0.0000, 0.5451, 0.9922, 0.7451, 0.0078, 0.0000, 0.0000, 0.0000,\n",
      "         0.0000, 0.0000, 0.0000, 0.0000, 0.0000, 0.0000, 0.0000, 0.0000, 0.0000,\n",
      "         0.0000],\n",
      "        [0.0000, 0.0000, 0.0000, 0.0000, 0.0000, 0.0000, 0.0000, 0.0000, 0.0000,\n",
      "         0.0000, 0.0000, 0.0431, 0.7451, 0.9922, 0.2745, 0.0000, 0.0000, 0.0000,\n",
      "         0.0000, 0.0000, 0.0000, 0.0000, 0.0000, 0.0000, 0.0000, 0.0000, 0.0000,\n",
      "         0.0000],\n",
      "        [0.0000, 0.0000, 0.0000, 0.0000, 0.0000, 0.0000, 0.0000, 0.0000, 0.0000,\n",
      "         0.0000, 0.0000, 0.0000, 0.1373, 0.9451, 0.8824, 0.6275, 0.4235, 0.0039,\n",
      "         0.0000, 0.0000, 0.0000, 0.0000, 0.0000, 0.0000, 0.0000, 0.0000, 0.0000,\n",
      "         0.0000],\n",
      "        [0.0000, 0.0000, 0.0000, 0.0000, 0.0000, 0.0000, 0.0000, 0.0000, 0.0000,\n",
      "         0.0000, 0.0000, 0.0000, 0.0000, 0.3176, 0.9412, 0.9922, 0.9922, 0.4667,\n",
      "         0.0980, 0.0000, 0.0000, 0.0000, 0.0000, 0.0000, 0.0000, 0.0000, 0.0000,\n",
      "         0.0000],\n",
      "        [0.0000, 0.0000, 0.0000, 0.0000, 0.0000, 0.0000, 0.0000, 0.0000, 0.0000,\n",
      "         0.0000, 0.0000, 0.0000, 0.0000, 0.0000, 0.1765, 0.7294, 0.9922, 0.9922,\n",
      "         0.5882, 0.1059, 0.0000, 0.0000, 0.0000, 0.0000, 0.0000, 0.0000, 0.0000,\n",
      "         0.0000],\n",
      "        [0.0000, 0.0000, 0.0000, 0.0000, 0.0000, 0.0000, 0.0000, 0.0000, 0.0000,\n",
      "         0.0000, 0.0000, 0.0000, 0.0000, 0.0000, 0.0000, 0.0627, 0.3647, 0.9882,\n",
      "         0.9922, 0.7333, 0.0000, 0.0000, 0.0000, 0.0000, 0.0000, 0.0000, 0.0000,\n",
      "         0.0000],\n",
      "        [0.0000, 0.0000, 0.0000, 0.0000, 0.0000, 0.0000, 0.0000, 0.0000, 0.0000,\n",
      "         0.0000, 0.0000, 0.0000, 0.0000, 0.0000, 0.0000, 0.0000, 0.0000, 0.9765,\n",
      "         0.9922, 0.9765, 0.2510, 0.0000, 0.0000, 0.0000, 0.0000, 0.0000, 0.0000,\n",
      "         0.0000],\n",
      "        [0.0000, 0.0000, 0.0000, 0.0000, 0.0000, 0.0000, 0.0000, 0.0000, 0.0000,\n",
      "         0.0000, 0.0000, 0.0000, 0.0000, 0.0000, 0.1804, 0.5098, 0.7176, 0.9922,\n",
      "         0.9922, 0.8118, 0.0078, 0.0000, 0.0000, 0.0000, 0.0000, 0.0000, 0.0000,\n",
      "         0.0000],\n",
      "        [0.0000, 0.0000, 0.0000, 0.0000, 0.0000, 0.0000, 0.0000, 0.0000, 0.0000,\n",
      "         0.0000, 0.0000, 0.0000, 0.1529, 0.5804, 0.8980, 0.9922, 0.9922, 0.9922,\n",
      "         0.9804, 0.7137, 0.0000, 0.0000, 0.0000, 0.0000, 0.0000, 0.0000, 0.0000,\n",
      "         0.0000],\n",
      "        [0.0000, 0.0000, 0.0000, 0.0000, 0.0000, 0.0000, 0.0000, 0.0000, 0.0000,\n",
      "         0.0000, 0.0941, 0.4471, 0.8667, 0.9922, 0.9922, 0.9922, 0.9922, 0.7882,\n",
      "         0.3059, 0.0000, 0.0000, 0.0000, 0.0000, 0.0000, 0.0000, 0.0000, 0.0000,\n",
      "         0.0000],\n",
      "        [0.0000, 0.0000, 0.0000, 0.0000, 0.0000, 0.0000, 0.0000, 0.0000, 0.0902,\n",
      "         0.2588, 0.8353, 0.9922, 0.9922, 0.9922, 0.9922, 0.7765, 0.3176, 0.0078,\n",
      "         0.0000, 0.0000, 0.0000, 0.0000, 0.0000, 0.0000, 0.0000, 0.0000, 0.0000,\n",
      "         0.0000],\n",
      "        [0.0000, 0.0000, 0.0000, 0.0000, 0.0000, 0.0000, 0.0706, 0.6706, 0.8588,\n",
      "         0.9922, 0.9922, 0.9922, 0.9922, 0.7647, 0.3137, 0.0353, 0.0000, 0.0000,\n",
      "         0.0000, 0.0000, 0.0000, 0.0000, 0.0000, 0.0000, 0.0000, 0.0000, 0.0000,\n",
      "         0.0000],\n",
      "        [0.0000, 0.0000, 0.0000, 0.0000, 0.2157, 0.6745, 0.8863, 0.9922, 0.9922,\n",
      "         0.9922, 0.9922, 0.9569, 0.5216, 0.0431, 0.0000, 0.0000, 0.0000, 0.0000,\n",
      "         0.0000, 0.0000, 0.0000, 0.0000, 0.0000, 0.0000, 0.0000, 0.0000, 0.0000,\n",
      "         0.0000],\n",
      "        [0.0000, 0.0000, 0.0000, 0.0000, 0.5333, 0.9922, 0.9922, 0.9922, 0.8314,\n",
      "         0.5294, 0.5176, 0.0627, 0.0000, 0.0000, 0.0000, 0.0000, 0.0000, 0.0000,\n",
      "         0.0000, 0.0000, 0.0000, 0.0000, 0.0000, 0.0000, 0.0000, 0.0000, 0.0000,\n",
      "         0.0000],\n",
      "        [0.0000, 0.0000, 0.0000, 0.0000, 0.0000, 0.0000, 0.0000, 0.0000, 0.0000,\n",
      "         0.0000, 0.0000, 0.0000, 0.0000, 0.0000, 0.0000, 0.0000, 0.0000, 0.0000,\n",
      "         0.0000, 0.0000, 0.0000, 0.0000, 0.0000, 0.0000, 0.0000, 0.0000, 0.0000,\n",
      "         0.0000],\n",
      "        [0.0000, 0.0000, 0.0000, 0.0000, 0.0000, 0.0000, 0.0000, 0.0000, 0.0000,\n",
      "         0.0000, 0.0000, 0.0000, 0.0000, 0.0000, 0.0000, 0.0000, 0.0000, 0.0000,\n",
      "         0.0000, 0.0000, 0.0000, 0.0000, 0.0000, 0.0000, 0.0000, 0.0000, 0.0000,\n",
      "         0.0000],\n",
      "        [0.0000, 0.0000, 0.0000, 0.0000, 0.0000, 0.0000, 0.0000, 0.0000, 0.0000,\n",
      "         0.0000, 0.0000, 0.0000, 0.0000, 0.0000, 0.0000, 0.0000, 0.0000, 0.0000,\n",
      "         0.0000, 0.0000, 0.0000, 0.0000, 0.0000, 0.0000, 0.0000, 0.0000, 0.0000,\n",
      "         0.0000]]], )\n",
      "torch.Size([1, 28, 28])\n",
      "5\n"
     ]
    }
   ],
   "source": [
    "sample_index = 0\n",
    "print(len(dataset))\n",
    "print(type(dataset[sample_index]))\n",
    "print(len(dataset[sample_index]))\n",
    "\n",
    "# Image\n",
    "print(dataset[sample_index][0])\n",
    "print(dataset[sample_index][0].shape)\n",
    "\n",
    "# Label\n",
    "print(dataset[sample_index][1])"
   ]
  },
  {
   "cell_type": "markdown",
   "metadata": {},
   "source": [
    "We can visualize the contents of the dataset like we would any other data."
   ]
  },
  {
   "cell_type": "code",
   "execution_count": 7,
   "metadata": {},
   "outputs": [
    {
     "data": {
      "image/png": "[encoded data removed]",
      "text/plain": [
       "<Figure size 800x800 with 25 Axes>"
      ]
     },
     "metadata": {},
     "output_type": "display_data"
    }
   ],
   "source": [
    "figure = plt.figure(figsize=(8, 8))\n",
    "columns, rows = 5, 5\n",
    "for index in range(1, columns * rows + 1):\n",
    "    sample_index = torch.randint(len(dataset), size=(1,)).item()\n",
    "    image, label = dataset[sample_index]\n",
    "    figure.add_subplot(rows, columns, index)\n",
    "    plt.axis(\"off\")\n",
    "    plt.imshow(image.permute(1, 2, 0).squeeze(), cmap=\"gray\")\n",
    "    plt.title(\"Class Index = {}\".format(label))\n",
    "    plt.tight_layout()\n",
    "plt.show()"
   ]
  },
  {
   "cell_type": "markdown",
   "metadata": {},
   "source": [
    "### Fitting a Model\n",
    "\n",
    "To begin fitting a model, we start with a train-test split. We can use `torch.utils.data.random.split` to split the data up."
   ]
  },
  {
   "cell_type": "code",
   "execution_count": 8,
   "metadata": {},
   "outputs": [],
   "source": [
    "train_size = int(0.8 * len(dataset))\n",
    "test_size = len(dataset) - train_size\n",
    "train_dataset, test_dataset = torch.utils.data.random_split(\n",
    "    dataset, [train_size, test_size]\n",
    ")"
   ]
  },
  {
   "cell_type": "markdown",
   "metadata": {},
   "source": [
    "With the train-test split performed, we can now instantiate a `DataLoader` from each individual dataset. We can specify parameters for how we want the data loader object to interact with its user code, i.e., to shuffle (for training) or not shuffle (for testing)."
   ]
  },
  {
   "cell_type": "code",
   "execution_count": 9,
   "metadata": {},
   "outputs": [],
   "source": [
    "train_loader = DataLoader(train_dataset, batch_size=64, shuffle=True)\n",
    "test_loader = DataLoader(test_dataset, batch_size=64, shuffle=False)"
   ]
  },
  {
   "cell_type": "markdown",
   "metadata": {},
   "source": [
    "We can inspect the `DataLoader` objects to find out what classes they inherit from and what their attributes are. This gives us an idea for how we can interact with them. We see attributes which define the sampler, batch size, parallel processing configurations, and other parameters."
   ]
  },
  {
   "cell_type": "code",
   "execution_count": 10,
   "metadata": {},
   "outputs": [
    {
     "name": "stdout",
     "output_type": "stream",
     "text": [
      "<torch.utils.data.dataloader.DataLoader object at 0x7ff57022e810>\n",
      "<class 'torch.utils.data.dataloader.DataLoader'>\n",
      "<class 'typing.Generic'>\n",
      "batch_sampler\n",
      "batch_size\n",
      "check_worker_number_rationality\n",
      "collate_fn\n",
      "dataset\n",
      "drop_last\n",
      "generator\n",
      "multiprocessing_context\n",
      "num_workers\n",
      "persistent_workers\n",
      "pin_memory\n",
      "pin_memory_device\n",
      "prefetch_factor\n",
      "sampler\n",
      "timeout\n",
      "worker_init_fn\n"
     ]
    }
   ],
   "source": [
    "print(train_loader)\n",
    "print(type(train_loader))\n",
    "print(type(train_loader).__base__)\n",
    "print_attributes(train_loader)"
   ]
  },
  {
   "cell_type": "markdown",
   "metadata": {},
   "source": [
    "Now we are ready to define a model, along with the functions we will need to train it."
   ]
  },
  {
   "cell_type": "code",
   "execution_count": 11,
   "metadata": {},
   "outputs": [],
   "source": [
    "class SimpleCNN(nn.Module):\n",
    "    def __init__(self):\n",
    "        super(SimpleCNN, self).__init__()\n",
    "        self.conv1 = nn.Conv2d(1, 32, 3, 1)\n",
    "        self.conv2 = nn.Conv2d(32, 64, 3, 1)\n",
    "        self.dropout1 = nn.Dropout(0.25)\n",
    "        self.dropout2 = nn.Dropout(0.5)\n",
    "        self.fc1 = nn.Linear(9216, 128)\n",
    "        self.fc2 = nn.Linear(128, 10)\n",
    "\n",
    "    def forward(self, x):\n",
    "        x = self.conv1(x)\n",
    "        x = F.relu(x)\n",
    "        x = self.conv2(x)\n",
    "        x = F.relu(x)\n",
    "        x = F.max_pool2d(x, 2)\n",
    "        x = self.dropout1(x)\n",
    "        x = torch.flatten(x, 1)\n",
    "        x = self.fc1(x)\n",
    "        x = F.relu(x)\n",
    "        x = self.dropout2(x)\n",
    "        x = self.fc2(x)\n",
    "        y = F.log_softmax(x, dim=1)\n",
    "        return y"
   ]
  },
  {
   "cell_type": "code",
   "execution_count": 12,
   "metadata": {},
   "outputs": [],
   "source": [
    "@dataclass\n",
    "class TrainingParameters:\n",
    "    \"\"\"Training parameters for a simple neural network trainer.\"\"\"\n",
    "\n",
    "    epochs: int = 3\n",
    "    lr: float = 1.0\n",
    "    gamma: float = 0.7\n",
    "    dry_run: bool = False\n",
    "    seed: int = 1\n",
    "    save_model: bool = True\n",
    "\n",
    "\n",
    "def predict(model, device, test_loader):\n",
    "    \"\"\"Make inferences using a given model and device, on a test set.\"\"\"\n",
    "    model.eval()\n",
    "    test_loss = 0\n",
    "    correct = 0\n",
    "    with torch.no_grad():\n",
    "        for data, target in test_loader:\n",
    "            data, target = data.to(device), target.to(device)\n",
    "            output = model(data)\n",
    "            test_loss += F.nll_loss(output, target, reduction=\"sum\").item()\n",
    "            pred = output.argmax(dim=1, keepdim=True)\n",
    "            correct += pred.eq(target.view_as(pred)).sum().item()\n",
    "\n",
    "    test_loss /= len(test_loader.dataset)\n",
    "\n",
    "    print(\n",
    "        \"\\nTest set: Average loss: {:.4f}, Accuracy: {}/{} ({:.0f}%)\\n\".format(\n",
    "            test_loss,\n",
    "            correct,\n",
    "            len(test_loader.dataset),\n",
    "            100.0 * correct / len(test_loader.dataset),\n",
    "        )\n",
    "    )\n",
    "\n",
    "\n",
    "def run_training_epoch(\n",
    "    training_params, model, device, train_loader, optimizer, epoch\n",
    "):\n",
    "    \"\"\"Execute a single training epoch.\"\"\"\n",
    "    model.train()\n",
    "    for batch_index, (data, target) in enumerate(train_loader):\n",
    "        data, target = data.to(device), target.to(device)\n",
    "        optimizer.zero_grad()\n",
    "        output = model(data)\n",
    "        loss = F.nll_loss(output, target)\n",
    "        loss.backward()\n",
    "        optimizer.step()\n",
    "        if training_params.dry_run:\n",
    "            break\n",
    "        if batch_index % round(len(train_loader) / 79 + 1) == 0:\n",
    "            print(\".\", end=\"\")\n",
    "    print(\"\")\n",
    "    print(\"Train Epoch: {} \\tLoss: {:.6f}\".format(epoch, loss.item()))\n",
    "\n",
    "    if training_params.save_model:\n",
    "        torch.save(model.state_dict(), \"mnist_cnn.pt\")\n",
    "\n",
    "\n",
    "def train(model, training_params, device, train_loader, test_loader):\n",
    "    \"\"\"Cycle through epochs to train the given model.\"\"\"\n",
    "    optimizer = optim.Adadelta(model.parameters(), lr=training_params.lr)\n",
    "    scheduler = StepLR(optimizer, step_size=1, gamma=training_params.gamma)\n",
    "\n",
    "    for epoch in range(1, training_params.epochs + 1):\n",
    "        run_training_epoch(\n",
    "            training_params, model, device, train_loader, optimizer, epoch\n",
    "        )\n",
    "        predict(model, device, test_loader)\n",
    "        scheduler.step()"
   ]
  },
  {
   "cell_type": "code",
   "execution_count": 13,
   "metadata": {},
   "outputs": [
    {
     "name": "stdout",
     "output_type": "stream",
     "text": [
      "...........................................................................\n",
      "Train Epoch: 1 \tLoss: 0.015588\n",
      "\n",
      "Test set: Average loss: 0.0671, Accuracy: 11759/12000 (98%)\n",
      "\n",
      "...........................................................................\n",
      "Train Epoch: 2 \tLoss: 0.010652\n",
      "\n",
      "Test set: Average loss: 0.0572, Accuracy: 11812/12000 (98%)\n",
      "\n",
      "...........................................................................\n",
      "Train Epoch: 3 \tLoss: 0.007514\n",
      "\n",
      "Test set: Average loss: 0.0483, Accuracy: 11823/12000 (99%)\n",
      "\n"
     ]
    }
   ],
   "source": [
    "model = SimpleCNN().to(device)\n",
    "training_params = TrainingParameters(epochs=3, dry_run=False)\n",
    "train(model, training_params, device, train_loader, test_loader)"
   ]
  },
  {
   "cell_type": "markdown",
   "metadata": {},
   "source": [
    "## Creating a Custom Dataset\n",
    "\n",
    "By extending the Dataset class and implementing the required functions we can create custom datasets for use with PyTorch.\n",
    "\n",
    "Here we start by getting some data as a numpy array using the `pydatapull` repository, which is a submodule of this project."
   ]
  },
  {
   "cell_type": "code",
   "execution_count": 14,
   "metadata": {},
   "outputs": [
    {
     "data": {
      "image/png": "[encoded data removed]",
      "text/plain": [
       "<Figure size 600x400 with 1 Axes>"
      ]
     },
     "metadata": {},
     "output_type": "display_data"
    }
   ],
   "source": [
    "from pydatapull.basicml import generate_half_moon_dataset\n",
    "from pydatapull.visualizers import scatter_plot_dataset\n",
    "\n",
    "x_half_moon_features, y_half_moon_labels, _ = generate_half_moon_dataset(\n",
    "    n_samples_per_class=1000,\n",
    "    n_clusters_per_class=10,\n",
    "    radius_r=3,\n",
    "    separation_offset_d=-0.2,\n",
    "    sigma=0.1,\n",
    ")\n",
    "_ = scatter_plot_dataset(x_half_moon_features, y_half_moon_labels)"
   ]
  },
  {
   "cell_type": "markdown",
   "metadata": {},
   "source": [
    "To create a custom dataset, we create a class which inherits from the `Dataset` object and implements the `__init__`, `__len__` and `__getitem__` methods which user code will use to interact with our dataset. The `__init__` function accepts the data as numpy arrays, and sets the `data`, `labels`, and `transforms` members. The `__len__` function returns the number of samples in our data to the user code. Finally, the `__getitem__` function returns a single sample and its corresponding label as a tuple. In this case, a sample is a row of the array of features, and its label is a corresponding number indicating which class it belongs to."
   ]
  },
  {
   "cell_type": "code",
   "execution_count": 15,
   "metadata": {},
   "outputs": [],
   "source": [
    "class NumpyDataset(Dataset):\n",
    "    def __init__(self, x_features_array, y_labels, transform=None):\n",
    "        self.data = x_features_array\n",
    "        self.labels = y_labels\n",
    "        self.transform = transform\n",
    "\n",
    "    def __len__(self):\n",
    "        return len(self.data)\n",
    "\n",
    "    def __getitem__(self, idx):\n",
    "        sample = self.data[idx]\n",
    "        label = self.labels[idx]\n",
    "        if self.transform:\n",
    "            sample = self.transform(sample)\n",
    "        sample = torch.tensor(sample, dtype=torch.float32)\n",
    "        label = torch.tensor(label, dtype=torch.float32)\n",
    "        return sample, label"
   ]
  },
  {
   "cell_type": "markdown",
   "metadata": {},
   "source": [
    "Now we can use the class we created to generate a dataset from numpy arrays."
   ]
  },
  {
   "cell_type": "code",
   "execution_count": 16,
   "metadata": {},
   "outputs": [],
   "source": [
    "half_moon_dataset = NumpyDataset(x_half_moon_features, y_half_moon_labels)"
   ]
  },
  {
   "cell_type": "markdown",
   "metadata": {},
   "source": [
    "Now the we have created a dataset with a class that conforms to the right interfaces, we can use it like any other PyTorch dataset. Here we perform a train-test split and generate a pair of data loaders for training and testing. Just like the datasets we have seen before, each element of each dataset is a tuple with an entry for the data sample and an entry for the label. Each data loader's length represents the number of batches required to represent the entire dataset."
   ]
  },
  {
   "cell_type": "code",
   "execution_count": 17,
   "metadata": {},
   "outputs": [
    {
     "name": "stdout",
     "output_type": "stream",
     "text": [
      "(tensor([ 1.3789, -0.1802]), tensor(0.))\n",
      "tensor([ 1.3789, -0.1802])\n",
      "tensor(0.)\n",
      "25\n",
      "7\n"
     ]
    }
   ],
   "source": [
    "train_size = int(0.8 * len(half_moon_dataset))\n",
    "test_size = len(half_moon_dataset) - train_size\n",
    "half_moon_train_dataset, half_moon_test_dataset = (\n",
    "    torch.utils.data.random_split(half_moon_dataset, [train_size, test_size])\n",
    ")\n",
    "\n",
    "print(half_moon_train_dataset[0])\n",
    "print(half_moon_train_dataset[0][0])\n",
    "print(half_moon_train_dataset[0][1])\n",
    "\n",
    "half_moon_train_loader = DataLoader(\n",
    "    half_moon_train_dataset, batch_size=64, shuffle=True\n",
    ")\n",
    "half_moon_test_loader = DataLoader(\n",
    "    half_moon_test_dataset, batch_size=64, shuffle=False\n",
    ")\n",
    "print(len(half_moon_train_loader))\n",
    "print(len(half_moon_test_loader))"
   ]
  },
  {
   "cell_type": "markdown",
   "metadata": {},
   "source": [
    "## Creating a Custom Dataset from Files\n",
    "\n",
    "We can also create custom datasets from files. The following example is borrowed almost entirely from [here](https://pytorch.org/tutorials/beginner/basics/data_tutorial.html) with an RUC twist. We again implement a child that inherits from the `Dataset` class and implements the member functions `__init__`, `__len__`, and `__getitem__`."
   ]
  },
  {
   "cell_type": "code",
   "execution_count": 18,
   "metadata": {},
   "outputs": [],
   "source": [
    "import os\n",
    "import pandas as pd\n",
    "from torchvision.io import read_image\n",
    "\n",
    "\n",
    "class CustomImageDataset(Dataset):\n",
    "    def __init__(\n",
    "        self, annotations_file, img_dir, transform=None, target_transform=None\n",
    "    ):\n",
    "        self.img_labels = pd.read_csv(annotations_file)\n",
    "        self.img_dir = img_dir\n",
    "        self.transform = transform\n",
    "        self.target_transform = target_transform\n",
    "\n",
    "    def __len__(self):\n",
    "        return len(self.img_labels)\n",
    "\n",
    "    def __getitem__(self, idx):\n",
    "        img_path = os.path.join(self.img_dir, self.img_labels.iloc[idx, 0])\n",
    "        image = read_image(img_path)\n",
    "        label = self.img_labels.iloc[idx, 1]\n",
    "        if self.transform:\n",
    "            image = self.transform(image)\n",
    "        if self.target_transform:\n",
    "            label = self.target_transform(label)\n",
    "        return image, label"
   ]
  },
  {
   "cell_type": "markdown",
   "metadata": {},
   "source": [
    "Here we can use the dataset class we just implemented to load a custom dataset. The text file defines the labels for each image. All images in `img_dir` are loaded."
   ]
  },
  {
   "cell_type": "code",
   "execution_count": 19,
   "metadata": {},
   "outputs": [],
   "source": [
    "custom_image_dataset = CustomImageDataset(\n",
    "    annotations_file=\"./example_data/custom_dataset/labels.txt\",\n",
    "    img_dir=\"./example_data/custom_data\",\n",
    ")"
   ]
  },
  {
   "cell_type": "markdown",
   "metadata": {},
   "source": [
    "Now we can perform a train-test split and initialize our data loaders."
   ]
  },
  {
   "cell_type": "code",
   "execution_count": 20,
   "metadata": {},
   "outputs": [],
   "source": [
    "train_size = int(0.8 * len(custom_image_dataset))\n",
    "test_size = len(custom_image_dataset) - train_size\n",
    "custom_image_train_dataset, custom_image_test_dataset = (\n",
    "    torch.utils.data.random_split(\n",
    "        custom_image_dataset, [train_size, test_size]\n",
    "    )\n",
    ")\n",
    "\n",
    "custom_image_train_loader = DataLoader(\n",
    "    custom_image_train_dataset, batch_size=64, shuffle=True\n",
    ")\n",
    "custom_image_test_loader = DataLoader(\n",
    "    custom_image_test_dataset, batch_size=64, shuffle=False\n",
    ")"
   ]
  }
 ],
 "metadata": {
  "kernelspec": {
   "display_name": ".venv",
   "language": "python",
   "name": "python3"
  },
  "language_info": {
   "codemirror_mode": {
    "name": "ipython",
    "version": 3
   },
   "file_extension": ".py",
   "mimetype": "text/x-python",
   "name": "python",
   "nbconvert_exporter": "python",
   "pygments_lexer": "ipython3",
   "version": "3.12.1"
  }
 },
 "nbformat": 4,
 "nbformat_minor": 2
}
